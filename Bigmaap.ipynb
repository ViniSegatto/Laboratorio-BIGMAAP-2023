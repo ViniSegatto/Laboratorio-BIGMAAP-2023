{
 "cells": [
  {
   "cell_type": "code",
   "execution_count": 1,
   "id": "508d05a9",
   "metadata": {},
   "outputs": [
    {
     "name": "stdout",
     "output_type": "stream",
     "text": [
      "Requirement already satisfied: statsmodels in c:\\users\\vinic\\anaconda3\\envs\\big-data-environment\\lib\\site-packages (0.13.5)\n",
      "Requirement already satisfied: scipy>=1.3 in c:\\users\\vinic\\anaconda3\\envs\\big-data-environment\\lib\\site-packages (from statsmodels) (1.7.3)\n",
      "Requirement already satisfied: patsy>=0.5.2 in c:\\users\\vinic\\anaconda3\\envs\\big-data-environment\\lib\\site-packages (from statsmodels) (0.5.3)\n",
      "Requirement already satisfied: packaging>=21.3 in c:\\users\\vinic\\anaconda3\\envs\\big-data-environment\\lib\\site-packages (from statsmodels) (21.3)\n",
      "Requirement already satisfied: numpy>=1.17 in c:\\users\\vinic\\anaconda3\\envs\\big-data-environment\\lib\\site-packages (from statsmodels) (1.21.5)\n",
      "Requirement already satisfied: pandas>=0.25 in c:\\users\\vinic\\anaconda3\\envs\\big-data-environment\\lib\\site-packages (from statsmodels) (1.4.1)\n",
      "Requirement already satisfied: pyparsing!=3.0.5,>=2.0.2 in c:\\users\\vinic\\anaconda3\\envs\\big-data-environment\\lib\\site-packages (from packaging>=21.3->statsmodels) (3.0.4)\n",
      "Requirement already satisfied: pytz>=2020.1 in c:\\users\\vinic\\anaconda3\\envs\\big-data-environment\\lib\\site-packages (from pandas>=0.25->statsmodels) (2021.3)\n",
      "Requirement already satisfied: python-dateutil>=2.8.1 in c:\\users\\vinic\\anaconda3\\envs\\big-data-environment\\lib\\site-packages (from pandas>=0.25->statsmodels) (2.8.2)\n",
      "Requirement already satisfied: six in c:\\users\\vinic\\anaconda3\\envs\\big-data-environment\\lib\\site-packages (from patsy>=0.5.2->statsmodels) (1.16.0)\n"
     ]
    }
   ],
   "source": [
    "!pip install statsmodels\n",
    "import pandas as pd\n",
    "import numpy as np\n",
    "import matplotlib.pyplot as plt\n",
    "import statsmodels.api as sm"
   ]
  },
  {
   "cell_type": "code",
   "execution_count": 2,
   "id": "aaf8519a",
   "metadata": {},
   "outputs": [],
   "source": [
    "path = r\"C:\\Users\\vinic\\Downloads\\archive (1).csv\"\n",
    "df2 = pd.read_csv(path, low_memory=False)"
   ]
  },
  {
   "cell_type": "code",
   "execution_count": 3,
   "id": "ad9214c2",
   "metadata": {},
   "outputs": [
    {
     "data": {
      "text/html": [
       "<div>\n",
       "<style scoped>\n",
       "    .dataframe tbody tr th:only-of-type {\n",
       "        vertical-align: middle;\n",
       "    }\n",
       "\n",
       "    .dataframe tbody tr th {\n",
       "        vertical-align: top;\n",
       "    }\n",
       "\n",
       "    .dataframe thead th {\n",
       "        text-align: right;\n",
       "    }\n",
       "</style>\n",
       "<table border=\"1\" class=\"dataframe\">\n",
       "  <thead>\n",
       "    <tr style=\"text-align: right;\">\n",
       "      <th></th>\n",
       "      <th>latitude</th>\n",
       "      <th>longitude</th>\n",
       "      <th>elevation</th>\n",
       "      <th>utc_offset_seconds</th>\n",
       "      <th>timezone</th>\n",
       "      <th>timezone_abbreviation</th>\n",
       "    </tr>\n",
       "  </thead>\n",
       "  <tbody>\n",
       "    <tr>\n",
       "      <th>0</th>\n",
       "      <td>-23.199997</td>\n",
       "      <td>-46.899994</td>\n",
       "      <td>745.0</td>\n",
       "      <td>-10800</td>\n",
       "      <td>America/Sao_Paulo</td>\n",
       "      <td>-03</td>\n",
       "    </tr>\n",
       "    <tr>\n",
       "      <th>1</th>\n",
       "      <td>time</td>\n",
       "      <td>temperature_2m (°C)</td>\n",
       "      <td>relativehumidity_2m (%)</td>\n",
       "      <td>dewpoint_2m (°C)</td>\n",
       "      <td>apparent_temperature (°C)</td>\n",
       "      <td>rain (mm)</td>\n",
       "    </tr>\n",
       "    <tr>\n",
       "      <th>2</th>\n",
       "      <td>1940-01-01T00:00</td>\n",
       "      <td>16.1</td>\n",
       "      <td>98</td>\n",
       "      <td>15.9</td>\n",
       "      <td>17.0</td>\n",
       "      <td>NaN</td>\n",
       "    </tr>\n",
       "    <tr>\n",
       "      <th>3</th>\n",
       "      <td>1940-01-01T-23:00</td>\n",
       "      <td>16.1</td>\n",
       "      <td>98</td>\n",
       "      <td>15.8</td>\n",
       "      <td>17.0</td>\n",
       "      <td>NaN</td>\n",
       "    </tr>\n",
       "    <tr>\n",
       "      <th>4</th>\n",
       "      <td>1940-01-01T-22:00</td>\n",
       "      <td>16.2</td>\n",
       "      <td>98</td>\n",
       "      <td>15.9</td>\n",
       "      <td>17.1</td>\n",
       "      <td>NaN</td>\n",
       "    </tr>\n",
       "  </tbody>\n",
       "</table>\n",
       "</div>"
      ],
      "text/plain": [
       "            latitude            longitude                elevation  \\\n",
       "0         -23.199997           -46.899994                    745.0   \n",
       "1               time  temperature_2m (°C)  relativehumidity_2m (%)   \n",
       "2   1940-01-01T00:00                 16.1                       98   \n",
       "3  1940-01-01T-23:00                 16.1                       98   \n",
       "4  1940-01-01T-22:00                 16.2                       98   \n",
       "\n",
       "  utc_offset_seconds                   timezone timezone_abbreviation  \n",
       "0             -10800          America/Sao_Paulo                   -03  \n",
       "1   dewpoint_2m (°C)  apparent_temperature (°C)             rain (mm)  \n",
       "2               15.9                       17.0                   NaN  \n",
       "3               15.8                       17.0                   NaN  \n",
       "4               15.9                       17.1                   NaN  "
      ]
     },
     "execution_count": 3,
     "metadata": {},
     "output_type": "execute_result"
    }
   ],
   "source": [
    "df2.head()"
   ]
  },
  {
   "cell_type": "code",
   "execution_count": 4,
   "id": "5d3d2e33",
   "metadata": {},
   "outputs": [],
   "source": [
    "df = pd.read_csv(path, low_memory=False, skiprows = 3)"
   ]
  },
  {
   "cell_type": "code",
   "execution_count": 5,
   "id": "0ec823b2",
   "metadata": {},
   "outputs": [
    {
     "data": {
      "text/html": [
       "<div>\n",
       "<style scoped>\n",
       "    .dataframe tbody tr th:only-of-type {\n",
       "        vertical-align: middle;\n",
       "    }\n",
       "\n",
       "    .dataframe tbody tr th {\n",
       "        vertical-align: top;\n",
       "    }\n",
       "\n",
       "    .dataframe thead th {\n",
       "        text-align: right;\n",
       "    }\n",
       "</style>\n",
       "<table border=\"1\" class=\"dataframe\">\n",
       "  <thead>\n",
       "    <tr style=\"text-align: right;\">\n",
       "      <th></th>\n",
       "      <th>time</th>\n",
       "      <th>temperature_2m (°C)</th>\n",
       "      <th>relativehumidity_2m (%)</th>\n",
       "      <th>dewpoint_2m (°C)</th>\n",
       "      <th>apparent_temperature (°C)</th>\n",
       "      <th>rain (mm)</th>\n",
       "    </tr>\n",
       "  </thead>\n",
       "  <tbody>\n",
       "    <tr>\n",
       "      <th>0</th>\n",
       "      <td>1940-01-01T00:00</td>\n",
       "      <td>16.1</td>\n",
       "      <td>98</td>\n",
       "      <td>15.9</td>\n",
       "      <td>17.0</td>\n",
       "      <td>NaN</td>\n",
       "    </tr>\n",
       "    <tr>\n",
       "      <th>1</th>\n",
       "      <td>1940-01-01T-23:00</td>\n",
       "      <td>16.1</td>\n",
       "      <td>98</td>\n",
       "      <td>15.8</td>\n",
       "      <td>17.0</td>\n",
       "      <td>NaN</td>\n",
       "    </tr>\n",
       "    <tr>\n",
       "      <th>2</th>\n",
       "      <td>1940-01-01T-22:00</td>\n",
       "      <td>16.2</td>\n",
       "      <td>98</td>\n",
       "      <td>15.9</td>\n",
       "      <td>17.1</td>\n",
       "      <td>NaN</td>\n",
       "    </tr>\n",
       "    <tr>\n",
       "      <th>3</th>\n",
       "      <td>1940-01-01T-21:00</td>\n",
       "      <td>16.2</td>\n",
       "      <td>98</td>\n",
       "      <td>15.9</td>\n",
       "      <td>17.2</td>\n",
       "      <td>NaN</td>\n",
       "    </tr>\n",
       "    <tr>\n",
       "      <th>4</th>\n",
       "      <td>1940-01-01T-20:00</td>\n",
       "      <td>16.2</td>\n",
       "      <td>97</td>\n",
       "      <td>15.8</td>\n",
       "      <td>17.3</td>\n",
       "      <td>0.00</td>\n",
       "    </tr>\n",
       "  </tbody>\n",
       "</table>\n",
       "</div>"
      ],
      "text/plain": [
       "                time temperature_2m (°C) relativehumidity_2m (%)  \\\n",
       "0   1940-01-01T00:00                16.1                      98   \n",
       "1  1940-01-01T-23:00                16.1                      98   \n",
       "2  1940-01-01T-22:00                16.2                      98   \n",
       "3  1940-01-01T-21:00                16.2                      98   \n",
       "4  1940-01-01T-20:00                16.2                      97   \n",
       "\n",
       "  dewpoint_2m (°C) apparent_temperature (°C) rain (mm)  \n",
       "0             15.9                      17.0       NaN  \n",
       "1             15.8                      17.0       NaN  \n",
       "2             15.9                      17.1       NaN  \n",
       "3             15.9                      17.2       NaN  \n",
       "4             15.8                      17.3      0.00  "
      ]
     },
     "execution_count": 5,
     "metadata": {},
     "output_type": "execute_result"
    }
   ],
   "source": [
    "df.head()"
   ]
  },
  {
   "cell_type": "code",
   "execution_count": 6,
   "id": "1cbccb5b",
   "metadata": {},
   "outputs": [
    {
     "name": "stdout",
     "output_type": "stream",
     "text": [
      "time                         object\n",
      "temperature_2m (°C)          object\n",
      "relativehumidity_2m (%)      object\n",
      "dewpoint_2m (°C)             object\n",
      "apparent_temperature (°C)    object\n",
      "rain (mm)                    object\n",
      "dtype: object\n"
     ]
    }
   ],
   "source": [
    "print(df.dtypes)"
   ]
  },
  {
   "cell_type": "code",
   "execution_count": 7,
   "id": "bb2921d6",
   "metadata": {},
   "outputs": [
    {
     "data": {
      "text/plain": [
       "time                          0\n",
       "temperature_2m (°C)          28\n",
       "relativehumidity_2m (%)      28\n",
       "dewpoint_2m (°C)             29\n",
       "apparent_temperature (°C)    27\n",
       "rain (mm)                    31\n",
       "dtype: int64"
      ]
     },
     "execution_count": 7,
     "metadata": {},
     "output_type": "execute_result"
    }
   ],
   "source": [
    "df.apply(pd.isnull).sum()"
   ]
  },
  {
   "cell_type": "code",
   "execution_count": 8,
   "id": "04108e84",
   "metadata": {},
   "outputs": [
    {
     "data": {
      "text/plain": [
       "time                         0.000000\n",
       "temperature_2m (°C)          0.000037\n",
       "relativehumidity_2m (%)      0.000037\n",
       "dewpoint_2m (°C)             0.000038\n",
       "apparent_temperature (°C)    0.000036\n",
       "rain (mm)                    0.000041\n",
       "dtype: float64"
      ]
     },
     "execution_count": 8,
     "metadata": {},
     "output_type": "execute_result"
    }
   ],
   "source": [
    "df.apply(pd.isnull).sum()/df.shape[0]"
   ]
  },
  {
   "cell_type": "code",
   "execution_count": 9,
   "id": "78eac9c2",
   "metadata": {},
   "outputs": [
    {
     "data": {
      "text/plain": [
       "0.00                568425\n",
       "0.10                 39998\n",
       "0.20                 25541\n",
       "0.30                 14866\n",
       "0.40                 10460\n",
       "                     ...  \n",
       "1967-09-12T18:01         1\n",
       "1967-09-11T18:01         1\n",
       "1967-09-10T18:00         1\n",
       "1967-09-09T18:00         1\n",
       "2023-04-07T18:02         1\n",
       "Name: rain (mm), Length: 30559, dtype: int64"
      ]
     },
     "execution_count": 9,
     "metadata": {},
     "output_type": "execute_result"
    }
   ],
   "source": [
    "df[\"rain (mm)\"].value_counts()"
   ]
  },
  {
   "cell_type": "code",
   "execution_count": 10,
   "id": "6f27a944",
   "metadata": {},
   "outputs": [],
   "source": [
    "df[\"rain (mm)\"] = df[\"rain (mm)\"].fillna(0)"
   ]
  },
  {
   "cell_type": "code",
   "execution_count": 11,
   "id": "faa05768",
   "metadata": {},
   "outputs": [
    {
     "data": {
      "text/plain": [
       "0.00                568425\n",
       "0.10                 39998\n",
       "0.20                 25541\n",
       "0.30                 14866\n",
       "0.40                 10460\n",
       "                     ...  \n",
       "1967-09-12T18:01         1\n",
       "1967-09-11T18:01         1\n",
       "1967-09-10T18:00         1\n",
       "1967-09-09T18:00         1\n",
       "2023-04-07T18:02         1\n",
       "Name: rain (mm), Length: 30560, dtype: int64"
      ]
     },
     "execution_count": 11,
     "metadata": {},
     "output_type": "execute_result"
    }
   ],
   "source": [
    "df[\"rain (mm)\"].value_counts()"
   ]
  },
  {
   "cell_type": "code",
   "execution_count": 12,
   "id": "7e670a06",
   "metadata": {},
   "outputs": [],
   "source": [
    "df[\"temperature_2m (°C)\"] = df[\"temperature_2m (°C)\"].fillna(method='ffill')"
   ]
  },
  {
   "cell_type": "code",
   "execution_count": 13,
   "id": "a0fa8353",
   "metadata": {},
   "outputs": [
    {
     "data": {
      "text/plain": [
       "20.1                       7388\n",
       "19.9                       7375\n",
       "19.7                       7313\n",
       "20.0                       7308\n",
       "19.6                       7257\n",
       "                           ... \n",
       "37.9                          1\n",
       "36.8                          1\n",
       "37.7                          1\n",
       "37.5                          1\n",
       "temperature_2m_max (°C)       1\n",
       "Name: temperature_2m (°C), Length: 367, dtype: int64"
      ]
     },
     "execution_count": 13,
     "metadata": {},
     "output_type": "execute_result"
    }
   ],
   "source": [
    "df[\"temperature_2m (°C)\"].value_counts()"
   ]
  },
  {
   "cell_type": "code",
   "execution_count": 14,
   "id": "84170d55",
   "metadata": {},
   "outputs": [
    {
     "data": {
      "text/plain": [
       "time                         0.000000\n",
       "temperature_2m (°C)          0.000000\n",
       "relativehumidity_2m (%)      0.000037\n",
       "dewpoint_2m (°C)             0.000038\n",
       "apparent_temperature (°C)    0.000036\n",
       "rain (mm)                    0.000000\n",
       "dtype: float64"
      ]
     },
     "execution_count": 14,
     "metadata": {},
     "output_type": "execute_result"
    }
   ],
   "source": [
    "df.apply(pd.isnull).sum()/df.shape[0]"
   ]
  },
  {
   "cell_type": "code",
   "execution_count": 15,
   "id": "cdbe71ba",
   "metadata": {},
   "outputs": [
    {
     "data": {
      "text/plain": [
       "time                         0.0\n",
       "temperature_2m (°C)          0.0\n",
       "relativehumidity_2m (%)      0.0\n",
       "dewpoint_2m (°C)             0.0\n",
       "apparent_temperature (°C)    0.0\n",
       "rain (mm)                    0.0\n",
       "dtype: float64"
      ]
     },
     "execution_count": 15,
     "metadata": {},
     "output_type": "execute_result"
    }
   ],
   "source": [
    "df[\"relativehumidity_2m (%)\"] = df[\"relativehumidity_2m (%)\"].fillna(method='ffill')\n",
    "df[\"dewpoint_2m (°C)\"] = df[\"dewpoint_2m (°C)\"].fillna(method='ffill')\n",
    "df[\"apparent_temperature (°C)\"] = df[\"apparent_temperature (°C)\"].fillna(method='ffill')\n",
    "df.apply(pd.isnull).sum()/df.shape[0]"
   ]
  },
  {
   "cell_type": "code",
   "execution_count": 18,
   "id": "9d04372a",
   "metadata": {},
   "outputs": [
    {
     "data": {
      "text/plain": [
       "RangeIndex(start=0, stop=760326, step=1)"
      ]
     },
     "execution_count": 18,
     "metadata": {},
     "output_type": "execute_result"
    }
   ],
   "source": [
    "df.index"
   ]
  },
  {
   "cell_type": "code",
   "execution_count": 32,
   "id": "76594350",
   "metadata": {},
   "outputs": [
    {
     "data": {
      "text/plain": [
       "time                         0\n",
       "temperature_2m (°C)          0\n",
       "relativehumidity_2m (%)      0\n",
       "dewpoint_2m (°C)             0\n",
       "apparent_temperature (°C)    0\n",
       "rain (mm)                    0\n",
       "dtype: int64"
      ]
     },
     "execution_count": 32,
     "metadata": {},
     "output_type": "execute_result"
    }
   ],
   "source": [
    "# Check for missing value defined in data documentation\n",
    "df.apply(lambda x: (x == 999999).sum())"
   ]
  },
  {
   "cell_type": "code",
   "execution_count": 33,
   "id": "1b570827",
   "metadata": {},
   "outputs": [
    {
     "data": {
      "text/plain": [
       "time                          object\n",
       "temperature_2m (°C)           object\n",
       "relativehumidity_2m (%)      float64\n",
       "dewpoint_2m (°C)              object\n",
       "apparent_temperature (°C)     object\n",
       "rain (mm)                     object\n",
       "dtype: object"
      ]
     },
     "execution_count": 33,
     "metadata": {},
     "output_type": "execute_result"
    }
   ],
   "source": [
    "df.dtypes"
   ]
  },
  {
   "cell_type": "code",
   "execution_count": 34,
   "id": "664ba6ce",
   "metadata": {},
   "outputs": [],
   "source": [
    "#df['relativehumidity_2m (%)'] = df['relativehumidity_2m (%)'].astype(float)\n",
    "df = df.drop(df.index[729890:729920])\n",
    "df['relativehumidity_2m (%)'] = pd.to_numeric(df['relativehumidity_2m (%)'])"
   ]
  },
  {
   "cell_type": "code",
   "execution_count": 35,
   "id": "795ed5fb",
   "metadata": {},
   "outputs": [
    {
     "data": {
      "text/plain": [
       "time                          object\n",
       "temperature_2m (°C)           object\n",
       "relativehumidity_2m (%)      float64\n",
       "dewpoint_2m (°C)              object\n",
       "apparent_temperature (°C)     object\n",
       "rain (mm)                     object\n",
       "dtype: object"
      ]
     },
     "execution_count": 35,
     "metadata": {},
     "output_type": "execute_result"
    }
   ],
   "source": [
    "df.dtypes"
   ]
  },
  {
   "cell_type": "code",
   "execution_count": 40,
   "id": "fe4246b9",
   "metadata": {},
   "outputs": [
    {
     "name": "stdout",
     "output_type": "stream",
     "text": [
      "time                          object\n",
      "temperature_2m (°C)          float64\n",
      "relativehumidity_2m (%)      float64\n",
      "dewpoint_2m (°C)             float64\n",
      "apparent_temperature (°C)    float64\n",
      "rain (mm)                    float64\n",
      "dtype: object\n"
     ]
    }
   ],
   "source": [
    "# convert column A from object to float\n",
    "df[['temperature_2m (°C)', 'rain (mm)']] = df[['temperature_2m (°C)', 'rain (mm)']].apply(pd.to_numeric, errors='coerce')\n",
    "df[['apparent_temperature (°C)', 'dewpoint_2m (°C)']] = df[['apparent_temperature (°C)', 'dewpoint_2m (°C)']].apply(pd.to_numeric, errors='coerce')\n",
    "\n",
    "\n",
    "print(df.dtypes)\n"
   ]
  },
  {
   "cell_type": "code",
   "execution_count": 41,
   "id": "1f477385",
   "metadata": {},
   "outputs": [],
   "source": [
    "from datetime import datetime"
   ]
  },
  {
   "cell_type": "code",
   "execution_count": 44,
   "id": "e4d0022a",
   "metadata": {},
   "outputs": [],
   "source": [
    "#df['time'] = df['time'].apply(lambda x: datetime.strptime(x, '%Y-%m-%dT%H:%M'))\n",
    "#df['time'] = df['time'].apply(lambda x: datetime.strptime(x, '%Y-%m-%dT-%H:%M'))\n",
    "df['time'] = pd.to_datetime(df['time'].str.replace('-', ''), format='%Y%m%dT%H:%M')\n"
   ]
  },
  {
   "cell_type": "code",
   "execution_count": 45,
   "id": "0dd2ba9a",
   "metadata": {},
   "outputs": [
    {
     "data": {
      "text/plain": [
       "time                         datetime64[ns]\n",
       "temperature_2m (°C)                 float64\n",
       "relativehumidity_2m (%)             float64\n",
       "dewpoint_2m (°C)                    float64\n",
       "apparent_temperature (°C)           float64\n",
       "rain (mm)                           float64\n",
       "dtype: object"
      ]
     },
     "execution_count": 45,
     "metadata": {},
     "output_type": "execute_result"
    }
   ],
   "source": [
    "df.dtypes"
   ]
  },
  {
   "cell_type": "code",
   "execution_count": 48,
   "id": "247d6ee3",
   "metadata": {},
   "outputs": [
    {
     "data": {
      "text/plain": [
       "Int64Index([     0,      1,      2,      3,      4,      5,      6,      7,\n",
       "                 8,      9,\n",
       "            ...\n",
       "            760316, 760317, 760318, 760319, 760320, 760321, 760322, 760323,\n",
       "            760324, 760325],\n",
       "           dtype='int64', length=760266)"
      ]
     },
     "execution_count": 48,
     "metadata": {},
     "output_type": "execute_result"
    }
   ],
   "source": [
    "df['time'].index"
   ]
  },
  {
   "cell_type": "code",
   "execution_count": 50,
   "id": "ef25e632",
   "metadata": {},
   "outputs": [
    {
     "data": {
      "text/html": [
       "<div>\n",
       "<style scoped>\n",
       "    .dataframe tbody tr th:only-of-type {\n",
       "        vertical-align: middle;\n",
       "    }\n",
       "\n",
       "    .dataframe tbody tr th {\n",
       "        vertical-align: top;\n",
       "    }\n",
       "\n",
       "    .dataframe thead th {\n",
       "        text-align: right;\n",
       "    }\n",
       "</style>\n",
       "<table border=\"1\" class=\"dataframe\">\n",
       "  <thead>\n",
       "    <tr style=\"text-align: right;\">\n",
       "      <th></th>\n",
       "      <th>time</th>\n",
       "      <th>temperature_2m (°C)</th>\n",
       "      <th>relativehumidity_2m (%)</th>\n",
       "      <th>dewpoint_2m (°C)</th>\n",
       "      <th>apparent_temperature (°C)</th>\n",
       "      <th>rain (mm)</th>\n",
       "    </tr>\n",
       "  </thead>\n",
       "  <tbody>\n",
       "    <tr>\n",
       "      <th>0</th>\n",
       "      <td>1940-01-01 00:00:00</td>\n",
       "      <td>16.1</td>\n",
       "      <td>98.0</td>\n",
       "      <td>15.9</td>\n",
       "      <td>17.0</td>\n",
       "      <td>0.0</td>\n",
       "    </tr>\n",
       "    <tr>\n",
       "      <th>1</th>\n",
       "      <td>1940-01-01 23:00:00</td>\n",
       "      <td>16.1</td>\n",
       "      <td>98.0</td>\n",
       "      <td>15.8</td>\n",
       "      <td>17.0</td>\n",
       "      <td>0.0</td>\n",
       "    </tr>\n",
       "    <tr>\n",
       "      <th>2</th>\n",
       "      <td>1940-01-01 22:00:00</td>\n",
       "      <td>16.2</td>\n",
       "      <td>98.0</td>\n",
       "      <td>15.9</td>\n",
       "      <td>17.1</td>\n",
       "      <td>0.0</td>\n",
       "    </tr>\n",
       "    <tr>\n",
       "      <th>3</th>\n",
       "      <td>1940-01-01 21:00:00</td>\n",
       "      <td>16.2</td>\n",
       "      <td>98.0</td>\n",
       "      <td>15.9</td>\n",
       "      <td>17.2</td>\n",
       "      <td>0.0</td>\n",
       "    </tr>\n",
       "    <tr>\n",
       "      <th>4</th>\n",
       "      <td>1940-01-01 20:00:00</td>\n",
       "      <td>16.2</td>\n",
       "      <td>97.0</td>\n",
       "      <td>15.8</td>\n",
       "      <td>17.3</td>\n",
       "      <td>0.0</td>\n",
       "    </tr>\n",
       "  </tbody>\n",
       "</table>\n",
       "</div>"
      ],
      "text/plain": [
       "                 time  temperature_2m (°C)  relativehumidity_2m (%)  \\\n",
       "0 1940-01-01 00:00:00                 16.1                     98.0   \n",
       "1 1940-01-01 23:00:00                 16.1                     98.0   \n",
       "2 1940-01-01 22:00:00                 16.2                     98.0   \n",
       "3 1940-01-01 21:00:00                 16.2                     98.0   \n",
       "4 1940-01-01 20:00:00                 16.2                     97.0   \n",
       "\n",
       "   dewpoint_2m (°C)  apparent_temperature (°C)  rain (mm)  \n",
       "0              15.9                       17.0        0.0  \n",
       "1              15.8                       17.0        0.0  \n",
       "2              15.9                       17.1        0.0  \n",
       "3              15.9                       17.2        0.0  \n",
       "4              15.8                       17.3        0.0  "
      ]
     },
     "execution_count": 50,
     "metadata": {},
     "output_type": "execute_result"
    }
   ],
   "source": [
    "df.head()"
   ]
  },
  {
   "cell_type": "code",
   "execution_count": 55,
   "id": "f087ce20",
   "metadata": {},
   "outputs": [],
   "source": [
    "df = df.set_index('time')"
   ]
  },
  {
   "cell_type": "code",
   "execution_count": 56,
   "id": "79ae2479",
   "metadata": {},
   "outputs": [
    {
     "data": {
      "text/html": [
       "<div>\n",
       "<style scoped>\n",
       "    .dataframe tbody tr th:only-of-type {\n",
       "        vertical-align: middle;\n",
       "    }\n",
       "\n",
       "    .dataframe tbody tr th {\n",
       "        vertical-align: top;\n",
       "    }\n",
       "\n",
       "    .dataframe thead th {\n",
       "        text-align: right;\n",
       "    }\n",
       "</style>\n",
       "<table border=\"1\" class=\"dataframe\">\n",
       "  <thead>\n",
       "    <tr style=\"text-align: right;\">\n",
       "      <th></th>\n",
       "      <th>temperature_2m (°C)</th>\n",
       "      <th>relativehumidity_2m (%)</th>\n",
       "      <th>dewpoint_2m (°C)</th>\n",
       "      <th>apparent_temperature (°C)</th>\n",
       "      <th>rain (mm)</th>\n",
       "    </tr>\n",
       "    <tr>\n",
       "      <th>time</th>\n",
       "      <th></th>\n",
       "      <th></th>\n",
       "      <th></th>\n",
       "      <th></th>\n",
       "      <th></th>\n",
       "    </tr>\n",
       "  </thead>\n",
       "  <tbody>\n",
       "    <tr>\n",
       "      <th>1940-01-01 00:00:00</th>\n",
       "      <td>16.1</td>\n",
       "      <td>98.0</td>\n",
       "      <td>15.9</td>\n",
       "      <td>17.0</td>\n",
       "      <td>0.0</td>\n",
       "    </tr>\n",
       "    <tr>\n",
       "      <th>1940-01-01 23:00:00</th>\n",
       "      <td>16.1</td>\n",
       "      <td>98.0</td>\n",
       "      <td>15.8</td>\n",
       "      <td>17.0</td>\n",
       "      <td>0.0</td>\n",
       "    </tr>\n",
       "    <tr>\n",
       "      <th>1940-01-01 22:00:00</th>\n",
       "      <td>16.2</td>\n",
       "      <td>98.0</td>\n",
       "      <td>15.9</td>\n",
       "      <td>17.1</td>\n",
       "      <td>0.0</td>\n",
       "    </tr>\n",
       "    <tr>\n",
       "      <th>1940-01-01 21:00:00</th>\n",
       "      <td>16.2</td>\n",
       "      <td>98.0</td>\n",
       "      <td>15.9</td>\n",
       "      <td>17.2</td>\n",
       "      <td>0.0</td>\n",
       "    </tr>\n",
       "    <tr>\n",
       "      <th>1940-01-01 20:00:00</th>\n",
       "      <td>16.2</td>\n",
       "      <td>97.0</td>\n",
       "      <td>15.8</td>\n",
       "      <td>17.3</td>\n",
       "      <td>0.0</td>\n",
       "    </tr>\n",
       "  </tbody>\n",
       "</table>\n",
       "</div>"
      ],
      "text/plain": [
       "                     temperature_2m (°C)  relativehumidity_2m (%)  \\\n",
       "time                                                                \n",
       "1940-01-01 00:00:00                 16.1                     98.0   \n",
       "1940-01-01 23:00:00                 16.1                     98.0   \n",
       "1940-01-01 22:00:00                 16.2                     98.0   \n",
       "1940-01-01 21:00:00                 16.2                     98.0   \n",
       "1940-01-01 20:00:00                 16.2                     97.0   \n",
       "\n",
       "                     dewpoint_2m (°C)  apparent_temperature (°C)  rain (mm)  \n",
       "time                                                                         \n",
       "1940-01-01 00:00:00              15.9                       17.0        0.0  \n",
       "1940-01-01 23:00:00              15.8                       17.0        0.0  \n",
       "1940-01-01 22:00:00              15.9                       17.1        0.0  \n",
       "1940-01-01 21:00:00              15.9                       17.2        0.0  \n",
       "1940-01-01 20:00:00              15.8                       17.3        0.0  "
      ]
     },
     "execution_count": 56,
     "metadata": {},
     "output_type": "execute_result"
    }
   ],
   "source": [
    "df.head()"
   ]
  },
  {
   "cell_type": "code",
   "execution_count": 58,
   "id": "3c513821",
   "metadata": {},
   "outputs": [
    {
     "data": {
      "text/plain": [
       "DatetimeIndex(['1940-01-01 00:00:00', '1940-01-01 23:00:00',\n",
       "               '1940-01-01 22:00:00', '1940-01-01 21:00:00',\n",
       "               '1940-01-01 20:00:00', '1940-01-01 19:00:00',\n",
       "               '1940-01-01 18:00:00', '1940-01-01 17:00:00',\n",
       "               '1940-01-01 16:00:00', '1940-01-01 15:00:00',\n",
       "               ...\n",
       "               '2023-03-29 00:00:00', '2023-03-30 00:00:00',\n",
       "               '2023-03-31 00:00:00', '2023-04-01 00:00:00',\n",
       "               '2023-04-02 00:00:00', '2023-04-03 00:00:00',\n",
       "               '2023-04-04 00:00:00', '2023-04-05 00:00:00',\n",
       "               '2023-04-06 00:00:00', '2023-04-07 00:00:00'],\n",
       "              dtype='datetime64[ns]', name='time', length=760266, freq=None)"
      ]
     },
     "execution_count": 58,
     "metadata": {},
     "output_type": "execute_result"
    }
   ],
   "source": [
    "df.index"
   ]
  },
  {
   "cell_type": "code",
   "execution_count": 59,
   "id": "ac7c7555",
   "metadata": {},
   "outputs": [
    {
     "data": {
      "text/plain": [
       "Int64Index([1940, 1940, 1940, 1940, 1940, 1940, 1940, 1940, 1940, 1940,\n",
       "            ...\n",
       "            2023, 2023, 2023, 2023, 2023, 2023, 2023, 2023, 2023, 2023],\n",
       "           dtype='int64', name='time', length=760266)"
      ]
     },
     "execution_count": 59,
     "metadata": {},
     "output_type": "execute_result"
    }
   ],
   "source": [
    "df.index.year"
   ]
  },
  {
   "cell_type": "code",
   "execution_count": 60,
   "id": "cd7d36e2",
   "metadata": {},
   "outputs": [
    {
     "data": {
      "text/plain": [
       "<AxesSubplot:xlabel='time'>"
      ]
     },
     "execution_count": 60,
     "metadata": {},
     "output_type": "execute_result"
    },
    {
     "data": {
      "image/png": "[encoded data removed]",
      "text/plain": [
       "<Figure size 432x288 with 1 Axes>"
      ]
     },
     "metadata": {
      "needs_background": "light"
     },
     "output_type": "display_data"
    }
   ],
   "source": [
    "df[\"temperature_2m (°C)\"].plot()"
   ]
  },
  {
   "cell_type": "code",
   "execution_count": 61,
   "id": "96c42fd4",
   "metadata": {},
   "outputs": [
    {
     "data": {
      "text/plain": [
       "1940    9114\n",
       "1941    9125\n",
       "1942    9125\n",
       "1943    9125\n",
       "1944    9150\n",
       "        ... \n",
       "2019    9125\n",
       "2020    9150\n",
       "2021    9125\n",
       "2022    9125\n",
       "2023    2403\n",
       "Name: time, Length: 84, dtype: int64"
      ]
     },
     "execution_count": 61,
     "metadata": {},
     "output_type": "execute_result"
    }
   ],
   "source": [
    "df.index.year.value_counts().sort_index()"
   ]
  },
  {
   "cell_type": "code",
   "execution_count": 62,
   "id": "30845e7f",
   "metadata": {},
   "outputs": [
    {
     "data": {
      "text/plain": [
       "<AxesSubplot:xlabel='time'>"
      ]
     },
     "execution_count": 62,
     "metadata": {},
     "output_type": "execute_result"
    },
    {
     "data": {
      "image/png": "[encoded data removed]",
      "text/plain": [
       "<Figure size 432x288 with 1 Axes>"
      ]
     },
     "metadata": {
      "needs_background": "light"
     },
     "output_type": "display_data"
    }
   ],
   "source": [
    "df[\"rain (mm)\"].plot()"
   ]
  },
  {
   "cell_type": "code",
   "execution_count": 64,
   "id": "525378a4",
   "metadata": {},
   "outputs": [
    {
     "data": {
      "text/plain": [
       "<AxesSubplot:xlabel='time'>"
      ]
     },
     "execution_count": 64,
     "metadata": {},
     "output_type": "execute_result"
    },
    {
     "data": {
      "image/png": "[encoded data removed]",
      "text/plain": [
       "<Figure size 432x288 with 1 Axes>"
      ]
     },
     "metadata": {
      "needs_background": "light"
     },
     "output_type": "display_data"
    }
   ],
   "source": [
    "df.groupby(df.index.year).apply(lambda x: x[\"temperature_2m (°C)\"].sum()).plot()"
   ]
  },
  {
   "cell_type": "code",
   "execution_count": 65,
   "id": "839ac2da",
   "metadata": {},
   "outputs": [],
   "source": [
    "from sklearn.linear_model import Ridge\n",
    "\n",
    "reg = Ridge(alpha=.1)"
   ]
  },
  {
   "cell_type": "code",
   "execution_count": 66,
   "id": "d47efe5e",
   "metadata": {},
   "outputs": [],
   "source": [
    "predictors = [\"temperature_2m (°C)\"]"
   ]
  },
  {
   "cell_type": "code",
   "execution_count": 68,
   "id": "69891288",
   "metadata": {},
   "outputs": [],
   "source": [
    "train = df.loc[:\"1980-12-31\"]\n",
    "test = df.loc[\"2010-01-01\":]"
   ]
  },
  {
   "cell_type": "code",
   "execution_count": 69,
   "id": "73e81bae",
   "metadata": {},
   "outputs": [
    {
     "data": {
      "text/html": [
       "<div>\n",
       "<style scoped>\n",
       "    .dataframe tbody tr th:only-of-type {\n",
       "        vertical-align: middle;\n",
       "    }\n",
       "\n",
       "    .dataframe tbody tr th {\n",
       "        vertical-align: top;\n",
       "    }\n",
       "\n",
       "    .dataframe thead th {\n",
       "        text-align: right;\n",
       "    }\n",
       "</style>\n",
       "<table border=\"1\" class=\"dataframe\">\n",
       "  <thead>\n",
       "    <tr style=\"text-align: right;\">\n",
       "      <th></th>\n",
       "      <th>temperature_2m (°C)</th>\n",
       "      <th>relativehumidity_2m (%)</th>\n",
       "      <th>dewpoint_2m (°C)</th>\n",
       "      <th>apparent_temperature (°C)</th>\n",
       "      <th>rain (mm)</th>\n",
       "    </tr>\n",
       "    <tr>\n",
       "      <th>time</th>\n",
       "      <th></th>\n",
       "      <th></th>\n",
       "      <th></th>\n",
       "      <th></th>\n",
       "      <th></th>\n",
       "    </tr>\n",
       "  </thead>\n",
       "  <tbody>\n",
       "    <tr>\n",
       "      <th>1940-01-01 00:00:00</th>\n",
       "      <td>16.1</td>\n",
       "      <td>98.0</td>\n",
       "      <td>15.9</td>\n",
       "      <td>17.0</td>\n",
       "      <td>0.0</td>\n",
       "    </tr>\n",
       "    <tr>\n",
       "      <th>1940-01-01 23:00:00</th>\n",
       "      <td>16.1</td>\n",
       "      <td>98.0</td>\n",
       "      <td>15.8</td>\n",
       "      <td>17.0</td>\n",
       "      <td>0.0</td>\n",
       "    </tr>\n",
       "    <tr>\n",
       "      <th>1940-01-01 22:00:00</th>\n",
       "      <td>16.2</td>\n",
       "      <td>98.0</td>\n",
       "      <td>15.9</td>\n",
       "      <td>17.1</td>\n",
       "      <td>0.0</td>\n",
       "    </tr>\n",
       "    <tr>\n",
       "      <th>1940-01-01 21:00:00</th>\n",
       "      <td>16.2</td>\n",
       "      <td>98.0</td>\n",
       "      <td>15.9</td>\n",
       "      <td>17.2</td>\n",
       "      <td>0.0</td>\n",
       "    </tr>\n",
       "    <tr>\n",
       "      <th>1940-01-01 20:00:00</th>\n",
       "      <td>16.2</td>\n",
       "      <td>97.0</td>\n",
       "      <td>15.8</td>\n",
       "      <td>17.3</td>\n",
       "      <td>0.0</td>\n",
       "    </tr>\n",
       "    <tr>\n",
       "      <th>...</th>\n",
       "      <td>...</td>\n",
       "      <td>...</td>\n",
       "      <td>...</td>\n",
       "      <td>...</td>\n",
       "      <td>...</td>\n",
       "    </tr>\n",
       "    <tr>\n",
       "      <th>1980-12-27 00:00:00</th>\n",
       "      <td>26.0</td>\n",
       "      <td>18.8</td>\n",
       "      <td>21.7</td>\n",
       "      <td>NaN</td>\n",
       "      <td>NaN</td>\n",
       "    </tr>\n",
       "    <tr>\n",
       "      <th>1980-12-28 00:00:00</th>\n",
       "      <td>24.4</td>\n",
       "      <td>19.6</td>\n",
       "      <td>21.8</td>\n",
       "      <td>NaN</td>\n",
       "      <td>NaN</td>\n",
       "    </tr>\n",
       "    <tr>\n",
       "      <th>1980-12-29 00:00:00</th>\n",
       "      <td>27.0</td>\n",
       "      <td>19.5</td>\n",
       "      <td>22.1</td>\n",
       "      <td>NaN</td>\n",
       "      <td>NaN</td>\n",
       "    </tr>\n",
       "    <tr>\n",
       "      <th>1980-12-30 00:00:00</th>\n",
       "      <td>25.5</td>\n",
       "      <td>19.1</td>\n",
       "      <td>21.2</td>\n",
       "      <td>NaN</td>\n",
       "      <td>NaN</td>\n",
       "    </tr>\n",
       "    <tr>\n",
       "      <th>1980-12-31 00:00:00</th>\n",
       "      <td>26.6</td>\n",
       "      <td>17.2</td>\n",
       "      <td>21.1</td>\n",
       "      <td>NaN</td>\n",
       "      <td>NaN</td>\n",
       "    </tr>\n",
       "  </tbody>\n",
       "</table>\n",
       "<p>374363 rows × 5 columns</p>\n",
       "</div>"
      ],
      "text/plain": [
       "                     temperature_2m (°C)  relativehumidity_2m (%)  \\\n",
       "time                                                                \n",
       "1940-01-01 00:00:00                 16.1                     98.0   \n",
       "1940-01-01 23:00:00                 16.1                     98.0   \n",
       "1940-01-01 22:00:00                 16.2                     98.0   \n",
       "1940-01-01 21:00:00                 16.2                     98.0   \n",
       "1940-01-01 20:00:00                 16.2                     97.0   \n",
       "...                                  ...                      ...   \n",
       "1980-12-27 00:00:00                 26.0                     18.8   \n",
       "1980-12-28 00:00:00                 24.4                     19.6   \n",
       "1980-12-29 00:00:00                 27.0                     19.5   \n",
       "1980-12-30 00:00:00                 25.5                     19.1   \n",
       "1980-12-31 00:00:00                 26.6                     17.2   \n",
       "\n",
       "                     dewpoint_2m (°C)  apparent_temperature (°C)  rain (mm)  \n",
       "time                                                                         \n",
       "1940-01-01 00:00:00              15.9                       17.0        0.0  \n",
       "1940-01-01 23:00:00              15.8                       17.0        0.0  \n",
       "1940-01-01 22:00:00              15.9                       17.1        0.0  \n",
       "1940-01-01 21:00:00              15.9                       17.2        0.0  \n",
       "1940-01-01 20:00:00              15.8                       17.3        0.0  \n",
       "...                               ...                        ...        ...  \n",
       "1980-12-27 00:00:00              21.7                        NaN        NaN  \n",
       "1980-12-28 00:00:00              21.8                        NaN        NaN  \n",
       "1980-12-29 00:00:00              22.1                        NaN        NaN  \n",
       "1980-12-30 00:00:00              21.2                        NaN        NaN  \n",
       "1980-12-31 00:00:00              21.1                        NaN        NaN  \n",
       "\n",
       "[374363 rows x 5 columns]"
      ]
     },
     "execution_count": 69,
     "metadata": {},
     "output_type": "execute_result"
    }
   ],
   "source": [
    "train"
   ]
  },
  {
   "cell_type": "code",
   "execution_count": 70,
   "id": "4e5c102f",
   "metadata": {},
   "outputs": [
    {
     "data": {
      "text/html": [
       "<div>\n",
       "<style scoped>\n",
       "    .dataframe tbody tr th:only-of-type {\n",
       "        vertical-align: middle;\n",
       "    }\n",
       "\n",
       "    .dataframe tbody tr th {\n",
       "        vertical-align: top;\n",
       "    }\n",
       "\n",
       "    .dataframe thead th {\n",
       "        text-align: right;\n",
       "    }\n",
       "</style>\n",
       "<table border=\"1\" class=\"dataframe\">\n",
       "  <thead>\n",
       "    <tr style=\"text-align: right;\">\n",
       "      <th></th>\n",
       "      <th>temperature_2m (°C)</th>\n",
       "      <th>relativehumidity_2m (%)</th>\n",
       "      <th>dewpoint_2m (°C)</th>\n",
       "      <th>apparent_temperature (°C)</th>\n",
       "      <th>rain (mm)</th>\n",
       "    </tr>\n",
       "    <tr>\n",
       "      <th>time</th>\n",
       "      <th></th>\n",
       "      <th></th>\n",
       "      <th></th>\n",
       "      <th></th>\n",
       "      <th></th>\n",
       "    </tr>\n",
       "  </thead>\n",
       "  <tbody>\n",
       "    <tr>\n",
       "      <th>2010-01-01 00:00:00</th>\n",
       "      <td>20.2</td>\n",
       "      <td>94.0</td>\n",
       "      <td>19.3</td>\n",
       "      <td>21.7</td>\n",
       "      <td>0.0</td>\n",
       "    </tr>\n",
       "    <tr>\n",
       "      <th>2010-01-01 01:00:00</th>\n",
       "      <td>20.2</td>\n",
       "      <td>95.0</td>\n",
       "      <td>19.3</td>\n",
       "      <td>21.8</td>\n",
       "      <td>0.0</td>\n",
       "    </tr>\n",
       "    <tr>\n",
       "      <th>2010-01-01 02:00:00</th>\n",
       "      <td>20.2</td>\n",
       "      <td>95.0</td>\n",
       "      <td>19.3</td>\n",
       "      <td>21.8</td>\n",
       "      <td>0.1</td>\n",
       "    </tr>\n",
       "    <tr>\n",
       "      <th>2010-01-01 03:00:00</th>\n",
       "      <td>20.2</td>\n",
       "      <td>95.0</td>\n",
       "      <td>19.3</td>\n",
       "      <td>22.1</td>\n",
       "      <td>0.1</td>\n",
       "    </tr>\n",
       "    <tr>\n",
       "      <th>2010-01-01 04:00:00</th>\n",
       "      <td>19.5</td>\n",
       "      <td>94.0</td>\n",
       "      <td>18.5</td>\n",
       "      <td>21.4</td>\n",
       "      <td>1.6</td>\n",
       "    </tr>\n",
       "    <tr>\n",
       "      <th>...</th>\n",
       "      <td>...</td>\n",
       "      <td>...</td>\n",
       "      <td>...</td>\n",
       "      <td>...</td>\n",
       "      <td>...</td>\n",
       "    </tr>\n",
       "    <tr>\n",
       "      <th>2023-04-03 00:00:00</th>\n",
       "      <td>25.8</td>\n",
       "      <td>15.3</td>\n",
       "      <td>20.1</td>\n",
       "      <td>NaN</td>\n",
       "      <td>NaN</td>\n",
       "    </tr>\n",
       "    <tr>\n",
       "      <th>2023-04-04 00:00:00</th>\n",
       "      <td>26.8</td>\n",
       "      <td>15.6</td>\n",
       "      <td>21.1</td>\n",
       "      <td>NaN</td>\n",
       "      <td>NaN</td>\n",
       "    </tr>\n",
       "    <tr>\n",
       "      <th>2023-04-05 00:00:00</th>\n",
       "      <td>26.4</td>\n",
       "      <td>15.7</td>\n",
       "      <td>20.7</td>\n",
       "      <td>NaN</td>\n",
       "      <td>NaN</td>\n",
       "    </tr>\n",
       "    <tr>\n",
       "      <th>2023-04-06 00:00:00</th>\n",
       "      <td>25.3</td>\n",
       "      <td>16.7</td>\n",
       "      <td>20.7</td>\n",
       "      <td>NaN</td>\n",
       "      <td>NaN</td>\n",
       "    </tr>\n",
       "    <tr>\n",
       "      <th>2023-04-07 00:00:00</th>\n",
       "      <td>25.3</td>\n",
       "      <td>16.7</td>\n",
       "      <td>20.7</td>\n",
       "      <td>NaN</td>\n",
       "      <td>NaN</td>\n",
       "    </tr>\n",
       "  </tbody>\n",
       "</table>\n",
       "<p>121103 rows × 5 columns</p>\n",
       "</div>"
      ],
      "text/plain": [
       "                     temperature_2m (°C)  relativehumidity_2m (%)  \\\n",
       "time                                                                \n",
       "2010-01-01 00:00:00                 20.2                     94.0   \n",
       "2010-01-01 01:00:00                 20.2                     95.0   \n",
       "2010-01-01 02:00:00                 20.2                     95.0   \n",
       "2010-01-01 03:00:00                 20.2                     95.0   \n",
       "2010-01-01 04:00:00                 19.5                     94.0   \n",
       "...                                  ...                      ...   \n",
       "2023-04-03 00:00:00                 25.8                     15.3   \n",
       "2023-04-04 00:00:00                 26.8                     15.6   \n",
       "2023-04-05 00:00:00                 26.4                     15.7   \n",
       "2023-04-06 00:00:00                 25.3                     16.7   \n",
       "2023-04-07 00:00:00                 25.3                     16.7   \n",
       "\n",
       "                     dewpoint_2m (°C)  apparent_temperature (°C)  rain (mm)  \n",
       "time                                                                         \n",
       "2010-01-01 00:00:00              19.3                       21.7        0.0  \n",
       "2010-01-01 01:00:00              19.3                       21.8        0.0  \n",
       "2010-01-01 02:00:00              19.3                       21.8        0.1  \n",
       "2010-01-01 03:00:00              19.3                       22.1        0.1  \n",
       "2010-01-01 04:00:00              18.5                       21.4        1.6  \n",
       "...                               ...                        ...        ...  \n",
       "2023-04-03 00:00:00              20.1                        NaN        NaN  \n",
       "2023-04-04 00:00:00              21.1                        NaN        NaN  \n",
       "2023-04-05 00:00:00              20.7                        NaN        NaN  \n",
       "2023-04-06 00:00:00              20.7                        NaN        NaN  \n",
       "2023-04-07 00:00:00              20.7                        NaN        NaN  \n",
       "\n",
       "[121103 rows x 5 columns]"
      ]
     },
     "execution_count": 70,
     "metadata": {},
     "output_type": "execute_result"
    }
   ],
   "source": [
    "test"
   ]
  },
  {
   "cell_type": "code",
   "execution_count": 71,
   "id": "10633784",
   "metadata": {},
   "outputs": [
    {
     "data": {
      "text/plain": [
       "Ridge(alpha=0.1)"
      ]
     },
     "execution_count": 71,
     "metadata": {},
     "output_type": "execute_result"
    }
   ],
   "source": [
    "reg.fit(train[predictors], train[\"temperature_2m (°C)\"])"
   ]
  },
  {
   "cell_type": "code",
   "execution_count": 72,
   "id": "99dd3fdd",
   "metadata": {},
   "outputs": [],
   "source": [
    "predictions = reg.predict(test[predictors])"
   ]
  },
  {
   "cell_type": "code",
   "execution_count": 73,
   "id": "e6fab011",
   "metadata": {},
   "outputs": [
    {
     "data": {
      "text/plain": [
       "4.112605763108921e-15"
      ]
     },
     "execution_count": 73,
     "metadata": {},
     "output_type": "execute_result"
    }
   ],
   "source": [
    "from sklearn.metrics import mean_squared_error\n",
    "\n",
    "mean_squared_error(test[\"temperature_2m (°C)\"], predictions)"
   ]
  },
  {
   "cell_type": "code",
   "execution_count": 74,
   "id": "1778c46f",
   "metadata": {},
   "outputs": [],
   "source": [
    "combined = pd.concat([test[\"temperature_2m (°C)\"], pd.Series(predictions, index=test.index)], axis=1)\n",
    "combined.columns = [\"actual\", \"predictions\"]"
   ]
  },
  {
   "cell_type": "code",
   "execution_count": 75,
   "id": "ba20a5a6",
   "metadata": {},
   "outputs": [
    {
     "data": {
      "text/html": [
       "<div>\n",
       "<style scoped>\n",
       "    .dataframe tbody tr th:only-of-type {\n",
       "        vertical-align: middle;\n",
       "    }\n",
       "\n",
       "    .dataframe tbody tr th {\n",
       "        vertical-align: top;\n",
       "    }\n",
       "\n",
       "    .dataframe thead th {\n",
       "        text-align: right;\n",
       "    }\n",
       "</style>\n",
       "<table border=\"1\" class=\"dataframe\">\n",
       "  <thead>\n",
       "    <tr style=\"text-align: right;\">\n",
       "      <th></th>\n",
       "      <th>actual</th>\n",
       "      <th>predictions</th>\n",
       "    </tr>\n",
       "    <tr>\n",
       "      <th>time</th>\n",
       "      <th></th>\n",
       "      <th></th>\n",
       "    </tr>\n",
       "  </thead>\n",
       "  <tbody>\n",
       "    <tr>\n",
       "      <th>2010-01-01 00:00:00</th>\n",
       "      <td>20.2</td>\n",
       "      <td>20.2</td>\n",
       "    </tr>\n",
       "    <tr>\n",
       "      <th>2010-01-01 01:00:00</th>\n",
       "      <td>20.2</td>\n",
       "      <td>20.2</td>\n",
       "    </tr>\n",
       "    <tr>\n",
       "      <th>2010-01-01 02:00:00</th>\n",
       "      <td>20.2</td>\n",
       "      <td>20.2</td>\n",
       "    </tr>\n",
       "    <tr>\n",
       "      <th>2010-01-01 03:00:00</th>\n",
       "      <td>20.2</td>\n",
       "      <td>20.2</td>\n",
       "    </tr>\n",
       "    <tr>\n",
       "      <th>2010-01-01 04:00:00</th>\n",
       "      <td>19.5</td>\n",
       "      <td>19.5</td>\n",
       "    </tr>\n",
       "    <tr>\n",
       "      <th>...</th>\n",
       "      <td>...</td>\n",
       "      <td>...</td>\n",
       "    </tr>\n",
       "    <tr>\n",
       "      <th>2023-04-03 00:00:00</th>\n",
       "      <td>25.8</td>\n",
       "      <td>25.8</td>\n",
       "    </tr>\n",
       "    <tr>\n",
       "      <th>2023-04-04 00:00:00</th>\n",
       "      <td>26.8</td>\n",
       "      <td>26.8</td>\n",
       "    </tr>\n",
       "    <tr>\n",
       "      <th>2023-04-05 00:00:00</th>\n",
       "      <td>26.4</td>\n",
       "      <td>26.4</td>\n",
       "    </tr>\n",
       "    <tr>\n",
       "      <th>2023-04-06 00:00:00</th>\n",
       "      <td>25.3</td>\n",
       "      <td>25.3</td>\n",
       "    </tr>\n",
       "    <tr>\n",
       "      <th>2023-04-07 00:00:00</th>\n",
       "      <td>25.3</td>\n",
       "      <td>25.3</td>\n",
       "    </tr>\n",
       "  </tbody>\n",
       "</table>\n",
       "<p>121103 rows × 2 columns</p>\n",
       "</div>"
      ],
      "text/plain": [
       "                     actual  predictions\n",
       "time                                    \n",
       "2010-01-01 00:00:00    20.2         20.2\n",
       "2010-01-01 01:00:00    20.2         20.2\n",
       "2010-01-01 02:00:00    20.2         20.2\n",
       "2010-01-01 03:00:00    20.2         20.2\n",
       "2010-01-01 04:00:00    19.5         19.5\n",
       "...                     ...          ...\n",
       "2023-04-03 00:00:00    25.8         25.8\n",
       "2023-04-04 00:00:00    26.8         26.8\n",
       "2023-04-05 00:00:00    26.4         26.4\n",
       "2023-04-06 00:00:00    25.3         25.3\n",
       "2023-04-07 00:00:00    25.3         25.3\n",
       "\n",
       "[121103 rows x 2 columns]"
      ]
     },
     "execution_count": 75,
     "metadata": {},
     "output_type": "execute_result"
    }
   ],
   "source": [
    "combined"
   ]
  },
  {
   "cell_type": "code",
   "execution_count": 76,
   "id": "65d92011",
   "metadata": {},
   "outputs": [
    {
     "data": {
      "text/plain": [
       "<AxesSubplot:xlabel='time'>"
      ]
     },
     "execution_count": 76,
     "metadata": {},
     "output_type": "execute_result"
    },
    {
     "data": {
      "image/png": "[encoded data removed]",
      "text/plain": [
       "<Figure size 432x288 with 1 Axes>"
      ]
     },
     "metadata": {
      "needs_background": "light"
     },
     "output_type": "display_data"
    }
   ],
   "source": [
    "combined.plot()"
   ]
  },
  {
   "cell_type": "code",
   "execution_count": 77,
   "id": "a7f61601",
   "metadata": {},
   "outputs": [
    {
     "data": {
      "text/plain": [
       "array([0.99999999])"
      ]
     },
     "execution_count": 77,
     "metadata": {},
     "output_type": "execute_result"
    }
   ],
   "source": [
    "reg.coef_"
   ]
  },
  {
   "cell_type": "code",
   "execution_count": 79,
   "id": "ce5ea4e1",
   "metadata": {},
   "outputs": [],
   "source": [
    "def create_predictions(predictors, core_weather, reg):\n",
    "    train = df.loc[:\"1980-12-31\"]\n",
    "    test = df.loc[\"2010-01-01\":]\n",
    "\n",
    "    reg.fit(train[predictors], train[\"temperature_2m (°C)\"])\n",
    "    predictions = reg.predict(test[predictors])\n",
    "\n",
    "    error = mean_squared_error(test[\"temperature_2m (°C)\"], predictions)\n",
    "    \n",
    "    combined = pd.concat([test[\"temperature_2m (°C)\"], pd.Series(predictions, index=test.index)], axis=1)\n",
    "    combined.columns = [\"actual\", \"predictions\"]\n",
    "    return error, combined"
   ]
  },
  {
   "cell_type": "code",
   "execution_count": 81,
   "id": "d914acd2",
   "metadata": {},
   "outputs": [
    {
     "data": {
      "text/plain": [
       "4.112605763108921e-15"
      ]
     },
     "execution_count": 81,
     "metadata": {},
     "output_type": "execute_result"
    }
   ],
   "source": [
    "redictors = [\"temperature_2m (°C)\"]\n",
    "\n",
    "error, combined = create_predictions(predictors, df, reg)\n",
    "error"
   ]
  },
  {
   "cell_type": "code",
   "execution_count": 82,
   "id": "dc14fb0f",
   "metadata": {},
   "outputs": [
    {
     "data": {
      "text/plain": [
       "<AxesSubplot:xlabel='time'>"
      ]
     },
     "execution_count": 82,
     "metadata": {},
     "output_type": "execute_result"
    },
    {
     "data": {
      "image/png": "[encoded data removed]",
      "text/plain": [
       "<Figure size 432x288 with 1 Axes>"
      ]
     },
     "metadata": {
      "needs_background": "light"
     },
     "output_type": "display_data"
    }
   ],
   "source": [
    "combined.plot()"
   ]
  },
  {
   "cell_type": "code",
   "execution_count": 85,
   "id": "867a3056",
   "metadata": {
    "collapsed": true
   },
   "outputs": [
    {
     "name": "stderr",
     "output_type": "stream",
     "text": [
      "C:\\Users\\vinic\\AppData\\Local\\Temp/ipykernel_32916/1761871826.py:1: FutureWarning: reindexing with a non-unique Index is deprecated and will raise in a future version.\n",
      "  df[\"time\"] = df[\"temperature_2m (°C)\"].groupby(df.index.month).apply(lambda x: x.expanding(1).mean())\n"
     ]
    },
    {
     "ename": "ValueError",
     "evalue": "cannot reindex on an axis with duplicate labels",
     "output_type": "error",
     "traceback": [
      "\u001b[1;31m---------------------------------------------------------------------------\u001b[0m",
      "\u001b[1;31mValueError\u001b[0m                                Traceback (most recent call last)",
      "\u001b[1;32m~\\AppData\\Local\\Temp/ipykernel_32916/1761871826.py\u001b[0m in \u001b[0;36m<module>\u001b[1;34m\u001b[0m\n\u001b[1;32m----> 1\u001b[1;33m \u001b[0mdf\u001b[0m\u001b[1;33m[\u001b[0m\u001b[1;34m\"time\"\u001b[0m\u001b[1;33m]\u001b[0m \u001b[1;33m=\u001b[0m \u001b[0mdf\u001b[0m\u001b[1;33m[\u001b[0m\u001b[1;34m\"temperature_2m (°C)\"\u001b[0m\u001b[1;33m]\u001b[0m\u001b[1;33m.\u001b[0m\u001b[0mgroupby\u001b[0m\u001b[1;33m(\u001b[0m\u001b[0mdf\u001b[0m\u001b[1;33m.\u001b[0m\u001b[0mindex\u001b[0m\u001b[1;33m.\u001b[0m\u001b[0mmonth\u001b[0m\u001b[1;33m)\u001b[0m\u001b[1;33m.\u001b[0m\u001b[0mapply\u001b[0m\u001b[1;33m(\u001b[0m\u001b[1;32mlambda\u001b[0m \u001b[0mx\u001b[0m\u001b[1;33m:\u001b[0m \u001b[0mx\u001b[0m\u001b[1;33m.\u001b[0m\u001b[0mexpanding\u001b[0m\u001b[1;33m(\u001b[0m\u001b[1;36m1\u001b[0m\u001b[1;33m)\u001b[0m\u001b[1;33m.\u001b[0m\u001b[0mmean\u001b[0m\u001b[1;33m(\u001b[0m\u001b[1;33m)\u001b[0m\u001b[1;33m)\u001b[0m\u001b[1;33m\u001b[0m\u001b[1;33m\u001b[0m\u001b[0m\n\u001b[0m",
      "\u001b[1;32m~\\anaconda3\\envs\\big-data-environment\\lib\\site-packages\\pandas\\core\\frame.py\u001b[0m in \u001b[0;36m__setitem__\u001b[1;34m(self, key, value)\u001b[0m\n\u001b[0;32m   3653\u001b[0m         \u001b[1;32melse\u001b[0m\u001b[1;33m:\u001b[0m\u001b[1;33m\u001b[0m\u001b[1;33m\u001b[0m\u001b[0m\n\u001b[0;32m   3654\u001b[0m             \u001b[1;31m# set column\u001b[0m\u001b[1;33m\u001b[0m\u001b[1;33m\u001b[0m\u001b[0m\n\u001b[1;32m-> 3655\u001b[1;33m             \u001b[0mself\u001b[0m\u001b[1;33m.\u001b[0m\u001b[0m_set_item\u001b[0m\u001b[1;33m(\u001b[0m\u001b[0mkey\u001b[0m\u001b[1;33m,\u001b[0m \u001b[0mvalue\u001b[0m\u001b[1;33m)\u001b[0m\u001b[1;33m\u001b[0m\u001b[1;33m\u001b[0m\u001b[0m\n\u001b[0m\u001b[0;32m   3656\u001b[0m \u001b[1;33m\u001b[0m\u001b[0m\n\u001b[0;32m   3657\u001b[0m     \u001b[1;32mdef\u001b[0m \u001b[0m_setitem_slice\u001b[0m\u001b[1;33m(\u001b[0m\u001b[0mself\u001b[0m\u001b[1;33m,\u001b[0m \u001b[0mkey\u001b[0m\u001b[1;33m:\u001b[0m \u001b[0mslice\u001b[0m\u001b[1;33m,\u001b[0m \u001b[0mvalue\u001b[0m\u001b[1;33m)\u001b[0m\u001b[1;33m:\u001b[0m\u001b[1;33m\u001b[0m\u001b[1;33m\u001b[0m\u001b[0m\n",
      "\u001b[1;32m~\\anaconda3\\envs\\big-data-environment\\lib\\site-packages\\pandas\\core\\frame.py\u001b[0m in \u001b[0;36m_set_item\u001b[1;34m(self, key, value)\u001b[0m\n\u001b[0;32m   3830\u001b[0m         \u001b[0mensure\u001b[0m \u001b[0mhomogeneity\u001b[0m\u001b[1;33m.\u001b[0m\u001b[1;33m\u001b[0m\u001b[1;33m\u001b[0m\u001b[0m\n\u001b[0;32m   3831\u001b[0m         \"\"\"\n\u001b[1;32m-> 3832\u001b[1;33m         \u001b[0mvalue\u001b[0m \u001b[1;33m=\u001b[0m \u001b[0mself\u001b[0m\u001b[1;33m.\u001b[0m\u001b[0m_sanitize_column\u001b[0m\u001b[1;33m(\u001b[0m\u001b[0mvalue\u001b[0m\u001b[1;33m)\u001b[0m\u001b[1;33m\u001b[0m\u001b[1;33m\u001b[0m\u001b[0m\n\u001b[0m\u001b[0;32m   3833\u001b[0m \u001b[1;33m\u001b[0m\u001b[0m\n\u001b[0;32m   3834\u001b[0m         if (\n",
      "\u001b[1;32m~\\anaconda3\\envs\\big-data-environment\\lib\\site-packages\\pandas\\core\\frame.py\u001b[0m in \u001b[0;36m_sanitize_column\u001b[1;34m(self, value)\u001b[0m\n\u001b[0;32m   4524\u001b[0m         \u001b[1;31m# We should never get here with DataFrame value\u001b[0m\u001b[1;33m\u001b[0m\u001b[1;33m\u001b[0m\u001b[0m\n\u001b[0;32m   4525\u001b[0m         \u001b[1;32mif\u001b[0m \u001b[0misinstance\u001b[0m\u001b[1;33m(\u001b[0m\u001b[0mvalue\u001b[0m\u001b[1;33m,\u001b[0m \u001b[0mSeries\u001b[0m\u001b[1;33m)\u001b[0m\u001b[1;33m:\u001b[0m\u001b[1;33m\u001b[0m\u001b[1;33m\u001b[0m\u001b[0m\n\u001b[1;32m-> 4526\u001b[1;33m             \u001b[1;32mreturn\u001b[0m \u001b[0m_reindex_for_setitem\u001b[0m\u001b[1;33m(\u001b[0m\u001b[0mvalue\u001b[0m\u001b[1;33m,\u001b[0m \u001b[0mself\u001b[0m\u001b[1;33m.\u001b[0m\u001b[0mindex\u001b[0m\u001b[1;33m)\u001b[0m\u001b[1;33m\u001b[0m\u001b[1;33m\u001b[0m\u001b[0m\n\u001b[0m\u001b[0;32m   4527\u001b[0m \u001b[1;33m\u001b[0m\u001b[0m\n\u001b[0;32m   4528\u001b[0m         \u001b[1;32mif\u001b[0m \u001b[0mis_list_like\u001b[0m\u001b[1;33m(\u001b[0m\u001b[0mvalue\u001b[0m\u001b[1;33m)\u001b[0m\u001b[1;33m:\u001b[0m\u001b[1;33m\u001b[0m\u001b[1;33m\u001b[0m\u001b[0m\n",
      "\u001b[1;32m~\\anaconda3\\envs\\big-data-environment\\lib\\site-packages\\pandas\\core\\frame.py\u001b[0m in \u001b[0;36m_reindex_for_setitem\u001b[1;34m(value, index)\u001b[0m\n\u001b[0;32m  10991\u001b[0m         \u001b[1;32mif\u001b[0m \u001b[1;32mnot\u001b[0m \u001b[0mvalue\u001b[0m\u001b[1;33m.\u001b[0m\u001b[0mindex\u001b[0m\u001b[1;33m.\u001b[0m\u001b[0mis_unique\u001b[0m\u001b[1;33m:\u001b[0m\u001b[1;33m\u001b[0m\u001b[1;33m\u001b[0m\u001b[0m\n\u001b[0;32m  10992\u001b[0m             \u001b[1;31m# duplicate axis\u001b[0m\u001b[1;33m\u001b[0m\u001b[1;33m\u001b[0m\u001b[0m\n\u001b[1;32m> 10993\u001b[1;33m             \u001b[1;32mraise\u001b[0m \u001b[0merr\u001b[0m\u001b[1;33m\u001b[0m\u001b[1;33m\u001b[0m\u001b[0m\n\u001b[0m\u001b[0;32m  10994\u001b[0m \u001b[1;33m\u001b[0m\u001b[0m\n\u001b[0;32m  10995\u001b[0m         raise TypeError(\n",
      "\u001b[1;32m~\\anaconda3\\envs\\big-data-environment\\lib\\site-packages\\pandas\\core\\frame.py\u001b[0m in \u001b[0;36m_reindex_for_setitem\u001b[1;34m(value, index)\u001b[0m\n\u001b[0;32m  10986\u001b[0m     \u001b[1;31m# GH#4107\u001b[0m\u001b[1;33m\u001b[0m\u001b[1;33m\u001b[0m\u001b[0m\n\u001b[0;32m  10987\u001b[0m     \u001b[1;32mtry\u001b[0m\u001b[1;33m:\u001b[0m\u001b[1;33m\u001b[0m\u001b[1;33m\u001b[0m\u001b[0m\n\u001b[1;32m> 10988\u001b[1;33m         \u001b[0mreindexed_value\u001b[0m \u001b[1;33m=\u001b[0m \u001b[0mvalue\u001b[0m\u001b[1;33m.\u001b[0m\u001b[0mreindex\u001b[0m\u001b[1;33m(\u001b[0m\u001b[0mindex\u001b[0m\u001b[1;33m)\u001b[0m\u001b[1;33m.\u001b[0m\u001b[0m_values\u001b[0m\u001b[1;33m\u001b[0m\u001b[1;33m\u001b[0m\u001b[0m\n\u001b[0m\u001b[0;32m  10989\u001b[0m     \u001b[1;32mexcept\u001b[0m \u001b[0mValueError\u001b[0m \u001b[1;32mas\u001b[0m \u001b[0merr\u001b[0m\u001b[1;33m:\u001b[0m\u001b[1;33m\u001b[0m\u001b[1;33m\u001b[0m\u001b[0m\n\u001b[0;32m  10990\u001b[0m         \u001b[1;31m# raised in MultiIndex.from_tuples, see test_insert_error_msmgs\u001b[0m\u001b[1;33m\u001b[0m\u001b[1;33m\u001b[0m\u001b[0m\n",
      "\u001b[1;32m~\\anaconda3\\envs\\big-data-environment\\lib\\site-packages\\pandas\\core\\series.py\u001b[0m in \u001b[0;36mreindex\u001b[1;34m(self, *args, **kwargs)\u001b[0m\n\u001b[0;32m   4670\u001b[0m                 )\n\u001b[0;32m   4671\u001b[0m             \u001b[0mkwargs\u001b[0m\u001b[1;33m.\u001b[0m\u001b[0mupdate\u001b[0m\u001b[1;33m(\u001b[0m\u001b[1;33m{\u001b[0m\u001b[1;34m\"index\"\u001b[0m\u001b[1;33m:\u001b[0m \u001b[0mindex\u001b[0m\u001b[1;33m}\u001b[0m\u001b[1;33m)\u001b[0m\u001b[1;33m\u001b[0m\u001b[1;33m\u001b[0m\u001b[0m\n\u001b[1;32m-> 4672\u001b[1;33m         \u001b[1;32mreturn\u001b[0m \u001b[0msuper\u001b[0m\u001b[1;33m(\u001b[0m\u001b[1;33m)\u001b[0m\u001b[1;33m.\u001b[0m\u001b[0mreindex\u001b[0m\u001b[1;33m(\u001b[0m\u001b[1;33m**\u001b[0m\u001b[0mkwargs\u001b[0m\u001b[1;33m)\u001b[0m\u001b[1;33m\u001b[0m\u001b[1;33m\u001b[0m\u001b[0m\n\u001b[0m\u001b[0;32m   4673\u001b[0m \u001b[1;33m\u001b[0m\u001b[0m\n\u001b[0;32m   4674\u001b[0m     \u001b[1;33m@\u001b[0m\u001b[0mdeprecate_nonkeyword_arguments\u001b[0m\u001b[1;33m(\u001b[0m\u001b[0mversion\u001b[0m\u001b[1;33m=\u001b[0m\u001b[1;32mNone\u001b[0m\u001b[1;33m,\u001b[0m \u001b[0mallowed_args\u001b[0m\u001b[1;33m=\u001b[0m\u001b[1;33m[\u001b[0m\u001b[1;34m\"self\"\u001b[0m\u001b[1;33m,\u001b[0m \u001b[1;34m\"labels\"\u001b[0m\u001b[1;33m]\u001b[0m\u001b[1;33m)\u001b[0m\u001b[1;33m\u001b[0m\u001b[1;33m\u001b[0m\u001b[0m\n",
      "\u001b[1;32m~\\anaconda3\\envs\\big-data-environment\\lib\\site-packages\\pandas\\core\\generic.py\u001b[0m in \u001b[0;36mreindex\u001b[1;34m(self, *args, **kwargs)\u001b[0m\n\u001b[0;32m   4972\u001b[0m \u001b[1;33m\u001b[0m\u001b[0m\n\u001b[0;32m   4973\u001b[0m         \u001b[1;31m# perform the reindex on the axes\u001b[0m\u001b[1;33m\u001b[0m\u001b[1;33m\u001b[0m\u001b[0m\n\u001b[1;32m-> 4974\u001b[1;33m         return self._reindex_axes(\n\u001b[0m\u001b[0;32m   4975\u001b[0m             \u001b[0maxes\u001b[0m\u001b[1;33m,\u001b[0m \u001b[0mlevel\u001b[0m\u001b[1;33m,\u001b[0m \u001b[0mlimit\u001b[0m\u001b[1;33m,\u001b[0m \u001b[0mtolerance\u001b[0m\u001b[1;33m,\u001b[0m \u001b[0mmethod\u001b[0m\u001b[1;33m,\u001b[0m \u001b[0mfill_value\u001b[0m\u001b[1;33m,\u001b[0m \u001b[0mcopy\u001b[0m\u001b[1;33m\u001b[0m\u001b[1;33m\u001b[0m\u001b[0m\n\u001b[0;32m   4976\u001b[0m         ).__finalize__(self, method=\"reindex\")\n",
      "\u001b[1;32m~\\anaconda3\\envs\\big-data-environment\\lib\\site-packages\\pandas\\core\\generic.py\u001b[0m in \u001b[0;36m_reindex_axes\u001b[1;34m(self, axes, level, limit, tolerance, method, fill_value, copy)\u001b[0m\n\u001b[0;32m   4992\u001b[0m \u001b[1;33m\u001b[0m\u001b[0m\n\u001b[0;32m   4993\u001b[0m             \u001b[0maxis\u001b[0m \u001b[1;33m=\u001b[0m \u001b[0mself\u001b[0m\u001b[1;33m.\u001b[0m\u001b[0m_get_axis_number\u001b[0m\u001b[1;33m(\u001b[0m\u001b[0ma\u001b[0m\u001b[1;33m)\u001b[0m\u001b[1;33m\u001b[0m\u001b[1;33m\u001b[0m\u001b[0m\n\u001b[1;32m-> 4994\u001b[1;33m             obj = obj._reindex_with_indexers(\n\u001b[0m\u001b[0;32m   4995\u001b[0m                 \u001b[1;33m{\u001b[0m\u001b[0maxis\u001b[0m\u001b[1;33m:\u001b[0m \u001b[1;33m[\u001b[0m\u001b[0mnew_index\u001b[0m\u001b[1;33m,\u001b[0m \u001b[0mindexer\u001b[0m\u001b[1;33m]\u001b[0m\u001b[1;33m}\u001b[0m\u001b[1;33m,\u001b[0m\u001b[1;33m\u001b[0m\u001b[1;33m\u001b[0m\u001b[0m\n\u001b[0;32m   4996\u001b[0m                 \u001b[0mfill_value\u001b[0m\u001b[1;33m=\u001b[0m\u001b[0mfill_value\u001b[0m\u001b[1;33m,\u001b[0m\u001b[1;33m\u001b[0m\u001b[1;33m\u001b[0m\u001b[0m\n",
      "\u001b[1;32m~\\anaconda3\\envs\\big-data-environment\\lib\\site-packages\\pandas\\core\\generic.py\u001b[0m in \u001b[0;36m_reindex_with_indexers\u001b[1;34m(self, reindexers, fill_value, copy, allow_dups)\u001b[0m\n\u001b[0;32m   5038\u001b[0m \u001b[1;33m\u001b[0m\u001b[0m\n\u001b[0;32m   5039\u001b[0m             \u001b[1;31m# TODO: speed up on homogeneous DataFrame objects (see _reindex_multi)\u001b[0m\u001b[1;33m\u001b[0m\u001b[1;33m\u001b[0m\u001b[0m\n\u001b[1;32m-> 5040\u001b[1;33m             new_data = new_data.reindex_indexer(\n\u001b[0m\u001b[0;32m   5041\u001b[0m                 \u001b[0mindex\u001b[0m\u001b[1;33m,\u001b[0m\u001b[1;33m\u001b[0m\u001b[1;33m\u001b[0m\u001b[0m\n\u001b[0;32m   5042\u001b[0m                 \u001b[0mindexer\u001b[0m\u001b[1;33m,\u001b[0m\u001b[1;33m\u001b[0m\u001b[1;33m\u001b[0m\u001b[0m\n",
      "\u001b[1;32m~\\anaconda3\\envs\\big-data-environment\\lib\\site-packages\\pandas\\core\\internals\\managers.py\u001b[0m in \u001b[0;36mreindex_indexer\u001b[1;34m(self, new_axis, indexer, axis, fill_value, allow_dups, copy, consolidate, only_slice, use_na_proxy)\u001b[0m\n\u001b[0;32m    677\u001b[0m         \u001b[1;31m# some axes don't allow reindexing with dups\u001b[0m\u001b[1;33m\u001b[0m\u001b[1;33m\u001b[0m\u001b[0m\n\u001b[0;32m    678\u001b[0m         \u001b[1;32mif\u001b[0m \u001b[1;32mnot\u001b[0m \u001b[0mallow_dups\u001b[0m\u001b[1;33m:\u001b[0m\u001b[1;33m\u001b[0m\u001b[1;33m\u001b[0m\u001b[0m\n\u001b[1;32m--> 679\u001b[1;33m             \u001b[0mself\u001b[0m\u001b[1;33m.\u001b[0m\u001b[0maxes\u001b[0m\u001b[1;33m[\u001b[0m\u001b[0maxis\u001b[0m\u001b[1;33m]\u001b[0m\u001b[1;33m.\u001b[0m\u001b[0m_validate_can_reindex\u001b[0m\u001b[1;33m(\u001b[0m\u001b[0mindexer\u001b[0m\u001b[1;33m)\u001b[0m\u001b[1;33m\u001b[0m\u001b[1;33m\u001b[0m\u001b[0m\n\u001b[0m\u001b[0;32m    680\u001b[0m \u001b[1;33m\u001b[0m\u001b[0m\n\u001b[0;32m    681\u001b[0m         \u001b[1;32mif\u001b[0m \u001b[0maxis\u001b[0m \u001b[1;33m>=\u001b[0m \u001b[0mself\u001b[0m\u001b[1;33m.\u001b[0m\u001b[0mndim\u001b[0m\u001b[1;33m:\u001b[0m\u001b[1;33m\u001b[0m\u001b[1;33m\u001b[0m\u001b[0m\n",
      "\u001b[1;32m~\\anaconda3\\envs\\big-data-environment\\lib\\site-packages\\pandas\\core\\indexes\\base.py\u001b[0m in \u001b[0;36m_validate_can_reindex\u001b[1;34m(self, indexer)\u001b[0m\n\u001b[0;32m   4105\u001b[0m         \u001b[1;31m# trying to reindex on an axis with duplicates\u001b[0m\u001b[1;33m\u001b[0m\u001b[1;33m\u001b[0m\u001b[0m\n\u001b[0;32m   4106\u001b[0m         \u001b[1;32mif\u001b[0m \u001b[1;32mnot\u001b[0m \u001b[0mself\u001b[0m\u001b[1;33m.\u001b[0m\u001b[0m_index_as_unique\u001b[0m \u001b[1;32mand\u001b[0m \u001b[0mlen\u001b[0m\u001b[1;33m(\u001b[0m\u001b[0mindexer\u001b[0m\u001b[1;33m)\u001b[0m\u001b[1;33m:\u001b[0m\u001b[1;33m\u001b[0m\u001b[1;33m\u001b[0m\u001b[0m\n\u001b[1;32m-> 4107\u001b[1;33m             \u001b[1;32mraise\u001b[0m \u001b[0mValueError\u001b[0m\u001b[1;33m(\u001b[0m\u001b[1;34m\"cannot reindex on an axis with duplicate labels\"\u001b[0m\u001b[1;33m)\u001b[0m\u001b[1;33m\u001b[0m\u001b[1;33m\u001b[0m\u001b[0m\n\u001b[0m\u001b[0;32m   4108\u001b[0m \u001b[1;33m\u001b[0m\u001b[0m\n\u001b[0;32m   4109\u001b[0m     def reindex(\n",
      "\u001b[1;31mValueError\u001b[0m: cannot reindex on an axis with duplicate labels"
     ]
    }
   ],
   "source": [
    "df[\"time\"] = df[\"temperature_2m (°C)\"].groupby(df.index.month).apply(lambda x: x.expanding(1).mean())"
   ]
  },
  {
   "cell_type": "code",
   "execution_count": 86,
   "id": "c26f91f0",
   "metadata": {},
   "outputs": [
    {
     "data": {
      "text/plain": [
       "temperature_2m (°C)          1.000000\n",
       "relativehumidity_2m (%)     -0.606157\n",
       "dewpoint_2m (°C)             0.571067\n",
       "apparent_temperature (°C)    0.970362\n",
       "rain (mm)                    0.110011\n",
       "Name: temperature_2m (°C), dtype: float64"
      ]
     },
     "execution_count": 86,
     "metadata": {},
     "output_type": "execute_result"
    }
   ],
   "source": [
    "df.corr()[\"temperature_2m (°C)\"]"
   ]
  },
  {
   "cell_type": "code",
   "execution_count": 87,
   "id": "f862f9dd",
   "metadata": {},
   "outputs": [],
   "source": [
    "combined[\"diff\"] = (combined[\"actual\"] - combined[\"predictions\"]).abs()"
   ]
  },
  {
   "cell_type": "code",
   "execution_count": 88,
   "id": "a32231ef",
   "metadata": {},
   "outputs": [
    {
     "data": {
      "text/html": [
       "<div>\n",
       "<style scoped>\n",
       "    .dataframe tbody tr th:only-of-type {\n",
       "        vertical-align: middle;\n",
       "    }\n",
       "\n",
       "    .dataframe tbody tr th {\n",
       "        vertical-align: top;\n",
       "    }\n",
       "\n",
       "    .dataframe thead th {\n",
       "        text-align: right;\n",
       "    }\n",
       "</style>\n",
       "<table border=\"1\" class=\"dataframe\">\n",
       "  <thead>\n",
       "    <tr style=\"text-align: right;\">\n",
       "      <th></th>\n",
       "      <th>actual</th>\n",
       "      <th>predictions</th>\n",
       "      <th>diff</th>\n",
       "    </tr>\n",
       "    <tr>\n",
       "      <th>time</th>\n",
       "      <th></th>\n",
       "      <th></th>\n",
       "      <th></th>\n",
       "    </tr>\n",
       "  </thead>\n",
       "  <tbody>\n",
       "    <tr>\n",
       "      <th>2020-10-07 16:00:00</th>\n",
       "      <td>37.3</td>\n",
       "      <td>37.3</td>\n",
       "      <td>2.319056e-07</td>\n",
       "    </tr>\n",
       "    <tr>\n",
       "      <th>2020-10-07 00:00:00</th>\n",
       "      <td>37.3</td>\n",
       "      <td>37.3</td>\n",
       "      <td>2.319056e-07</td>\n",
       "    </tr>\n",
       "    <tr>\n",
       "      <th>2020-10-07 13:00:00</th>\n",
       "      <td>36.9</td>\n",
       "      <td>36.9</td>\n",
       "      <td>2.266603e-07</td>\n",
       "    </tr>\n",
       "    <tr>\n",
       "      <th>2020-10-07 15:00:00</th>\n",
       "      <td>36.9</td>\n",
       "      <td>36.9</td>\n",
       "      <td>2.266603e-07</td>\n",
       "    </tr>\n",
       "    <tr>\n",
       "      <th>2020-10-07 14:00:00</th>\n",
       "      <td>36.7</td>\n",
       "      <td>36.7</td>\n",
       "      <td>2.240377e-07</td>\n",
       "    </tr>\n",
       "    <tr>\n",
       "      <th>2014-10-18 00:00:00</th>\n",
       "      <td>36.7</td>\n",
       "      <td>36.7</td>\n",
       "      <td>2.240377e-07</td>\n",
       "    </tr>\n",
       "    <tr>\n",
       "      <th>2014-10-18 14:00:00</th>\n",
       "      <td>36.7</td>\n",
       "      <td>36.7</td>\n",
       "      <td>2.240377e-07</td>\n",
       "    </tr>\n",
       "    <tr>\n",
       "      <th>2014-10-18 15:00:00</th>\n",
       "      <td>36.4</td>\n",
       "      <td>36.4</td>\n",
       "      <td>2.201037e-07</td>\n",
       "    </tr>\n",
       "    <tr>\n",
       "      <th>2020-10-07 17:00:00</th>\n",
       "      <td>36.4</td>\n",
       "      <td>36.4</td>\n",
       "      <td>2.201037e-07</td>\n",
       "    </tr>\n",
       "    <tr>\n",
       "      <th>2020-10-07 12:00:00</th>\n",
       "      <td>36.4</td>\n",
       "      <td>36.4</td>\n",
       "      <td>2.201037e-07</td>\n",
       "    </tr>\n",
       "  </tbody>\n",
       "</table>\n",
       "</div>"
      ],
      "text/plain": [
       "                     actual  predictions          diff\n",
       "time                                                  \n",
       "2020-10-07 16:00:00    37.3         37.3  2.319056e-07\n",
       "2020-10-07 00:00:00    37.3         37.3  2.319056e-07\n",
       "2020-10-07 13:00:00    36.9         36.9  2.266603e-07\n",
       "2020-10-07 15:00:00    36.9         36.9  2.266603e-07\n",
       "2020-10-07 14:00:00    36.7         36.7  2.240377e-07\n",
       "2014-10-18 00:00:00    36.7         36.7  2.240377e-07\n",
       "2014-10-18 14:00:00    36.7         36.7  2.240377e-07\n",
       "2014-10-18 15:00:00    36.4         36.4  2.201037e-07\n",
       "2020-10-07 17:00:00    36.4         36.4  2.201037e-07\n",
       "2020-10-07 12:00:00    36.4         36.4  2.201037e-07"
      ]
     },
     "execution_count": 88,
     "metadata": {},
     "output_type": "execute_result"
    }
   ],
   "source": [
    "combined.sort_values(\"diff\", ascending=False).head(10)"
   ]
  },
  {
   "cell_type": "code",
   "execution_count": null,
   "id": "12b5016a",
   "metadata": {},
   "outputs": [],
   "source": []
  },
  {
   "cell_type": "code",
   "execution_count": null,
   "id": "af27fbc0",
   "metadata": {},
   "outputs": [],
   "source": []
  },
  {
   "cell_type": "code",
   "execution_count": null,
   "id": "ab5298f9",
   "metadata": {},
   "outputs": [],
   "source": []
  },
  {
   "cell_type": "code",
   "execution_count": null,
   "id": "369484d7",
   "metadata": {},
   "outputs": [],
   "source": []
  },
  {
   "cell_type": "code",
   "execution_count": null,
   "id": "6c45e245",
   "metadata": {},
   "outputs": [],
   "source": []
  },
  {
   "cell_type": "code",
   "execution_count": null,
   "id": "564bfe76",
   "metadata": {},
   "outputs": [],
   "source": []
  },
  {
   "cell_type": "code",
   "execution_count": null,
   "id": "5fc65a00",
   "metadata": {},
   "outputs": [],
   "source": []
  }
 ],
 "metadata": {
  "kernelspec": {
   "display_name": "Python 3 (ipykernel)",
   "language": "python",
   "name": "python3"
  },
  "language_info": {
   "codemirror_mode": {
    "name": "ipython",
    "version": 3
   },
   "file_extension": ".py",
   "mimetype": "text/x-python",
   "name": "python",
   "nbconvert_exporter": "python",
   "pygments_lexer": "ipython3",
   "version": "3.9.7"
  }
 },
 "nbformat": 4,
 "nbformat_minor": 5
}
